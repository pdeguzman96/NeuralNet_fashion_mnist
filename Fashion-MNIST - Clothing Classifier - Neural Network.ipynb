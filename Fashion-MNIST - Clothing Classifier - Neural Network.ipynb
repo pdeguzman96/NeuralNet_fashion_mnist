{
 "cells": [
  {
   "cell_type": "markdown",
   "metadata": {},
   "source": [
    "# Classifying the Fashion-MNIST Dataset\n",
    "\n",
    "Dataset source: [Fashion-MNIST dataset](https://github.com/zalandoresearch/fashion-mnist)<br><br>\n",
    "\n",
    "Fashion-MNIST is a set of 28x28 greyscale images of clothes (see below for examples of the images).\n",
    "\n",
    "<img src='assets/fashion-mnist-sprite.png' width=500px><br>\n",
    "\n",
    "In this notebook, I will build out and train a few simple neural networks and test their performance on the testing set of 10,000 images. Note that the helper file used to visualize images and the commands used to extract the training and testing data were provided as part of a Udacity exercise."
   ]
  },
  {
   "cell_type": "markdown",
   "metadata": {},
   "source": [
    "# Importing Libraries & Preparing Data"
   ]
  },
  {
   "cell_type": "code",
   "execution_count": 1,
   "metadata": {},
   "outputs": [],
   "source": [
    "import torch\n",
    "from torchvision import datasets, transforms\n",
    "import helper\n",
    "from torch import nn,optim\n",
    "import time\n",
    "\n",
    "# Define a transform to normalize the data\n",
    "transform = transforms.Compose([transforms.ToTensor(),\n",
    "                                transforms.Normalize((0.5,), (0.5,)),\n",
    "                               ])\n",
    "# Download and load the training data\n",
    "trainset = datasets.FashionMNIST('~/.pytorch/F_MNIST_data/', download=True, train=True, transform=transform)\n",
    "trainloader = torch.utils.data.DataLoader(trainset, batch_size=64, shuffle=True)\n",
    "\n",
    "# Download and load the test data\n",
    "testset = datasets.FashionMNIST('~/.pytorch/F_MNIST_data/', download=True, train=False, transform=transform)\n",
    "testloader = torch.utils.data.DataLoader(testset, batch_size=64, shuffle=True)"
   ]
  },
  {
   "cell_type": "markdown",
   "metadata": {},
   "source": [
    "Here we can see one of the images. (Using Udacity's helper file)"
   ]
  },
  {
   "cell_type": "code",
   "execution_count": 2,
   "metadata": {},
   "outputs": [
    {
     "data": {
      "image/png": "[encoded data removed]",
      "text/plain": [
       "<Figure size 432x288 with 1 Axes>"
      ]
     },
     "metadata": {
      "needs_background": "light"
     },
     "output_type": "display_data"
    }
   ],
   "source": [
    "image, label = next(iter(trainloader))\n",
    "helper.imshow(image[0,:]);"
   ]
  },
  {
   "cell_type": "markdown",
   "metadata": {},
   "source": [
    "## Building the network\n",
    "\n",
    "Each image is 28x28 pixels, which is a total of 784. I will flatten the images into one line and feed batches of 64 images in one line (64x784 tensors) into the network. So, the input layer to the networks will have 784 nodes. **Below are all the different architectures I tested.** You should ignore the below cells & skip ahead."
   ]
  },
  {
   "cell_type": "markdown",
   "metadata": {},
   "source": [
    "V1 Model"
   ]
  },
  {
   "cell_type": "code",
   "execution_count": 3,
   "metadata": {},
   "outputs": [],
   "source": [
    "# model = nn.Sequential(nn.Linear(784,196), # input layer to hidden layer 1\n",
    "#                      nn.ReLU(),\n",
    "#                      nn.Linear(196,98), # hidden layer 1 to hidden layer 2\n",
    "#                      nn.ReLU(),\n",
    "#                      nn.Linear(98,49), # hidden layer 2 to hidden layer 3\n",
    "#                      nn.ReLU(),\n",
    "#                      nn.Linear(49,10), # hidden layer 3 to output layer,\n",
    "#                      nn.LogSoftmax(dim=1) # LogSoftmax used as probability output\n",
    "#                      )"
   ]
  },
  {
   "cell_type": "markdown",
   "metadata": {},
   "source": [
    "V2 Model"
   ]
  },
  {
   "cell_type": "code",
   "execution_count": 4,
   "metadata": {},
   "outputs": [],
   "source": [
    "# model = nn.Sequential(nn.Linear(784,392), # input layer to hidden layer 1\n",
    "#                      nn.ReLU(),\n",
    "#                      nn.Linear(392,196), # hidden layer 1 to hidden layer 2\n",
    "#                      nn.ReLU(),\n",
    "#                      nn.Linear(196,98), # hidden layer 2 to hidden layer 3\n",
    "#                      nn.ReLU(),\n",
    "#                      nn.Linear(98,49), # hidden layer 3 to hidden layer 4\n",
    "#                      nn.ReLU(),\n",
    "#                      nn.Linear(49,10), # hidden layer 4 to output layer,\n",
    "#                      nn.LogSoftmax(dim=1) # LogSoftmax used as probability output\n",
    "#                      )"
   ]
  },
  {
   "cell_type": "markdown",
   "metadata": {},
   "source": [
    "V3 Model"
   ]
  },
  {
   "cell_type": "code",
   "execution_count": 5,
   "metadata": {},
   "outputs": [],
   "source": [
    "# model = nn.Sequential(nn.Linear(784,392), # input layer to hidden layer 1\n",
    "#                      nn.ReLU(),\n",
    "#                      nn.Linear(392,392), # hidden layer 1 to hidden layer 2\n",
    "#                      nn.ReLU(),\n",
    "#                      nn.Linear(392,196), # hidden layer 2 to hidden layer 3\n",
    "#                      nn.ReLU(),\n",
    "#                      nn.Linear(196,98), # hidden layer 3 to hidden layer 4\n",
    "#                      nn.ReLU(),\n",
    "#                      nn.Linear(98,10), # hidden layer 4 to output layer,\n",
    "#                      nn.LogSoftmax(dim=1) # LogSoftmax used as probability output\n",
    "#                      )"
   ]
  },
  {
   "cell_type": "markdown",
   "metadata": {},
   "source": [
    "V4 Model"
   ]
  },
  {
   "cell_type": "code",
   "execution_count": 6,
   "metadata": {},
   "outputs": [],
   "source": [
    "# model = nn.Sequential(nn.Linear(784,392), # input layer to hidden layer 1\n",
    "#                      nn.ReLU(),\n",
    "#                      nn.Linear(392,196), # hidden layer 1 to hidden layer 2\n",
    "#                      nn.ReLU(),\n",
    "#                      nn.Linear(196,98), # hidden layer 2 to hidden layer 3\n",
    "#                      nn.ReLU(),\n",
    "#                      nn.Linear(98,49), # hidden layer 3 to hidden layer 4\n",
    "#                      nn.ReLU(),\n",
    "#                      nn.Linear(49,25), # hidden layer 4 to hidden layer 5,\n",
    "#                      nn.ReLU(),\n",
    "#                      nn.Linear(25,10), # hidden layer 5 to output layer,\n",
    "#                      nn.LogSoftmax(dim=1) # LogSoftmax used as probability output\n",
    "#                      )"
   ]
  },
  {
   "cell_type": "markdown",
   "metadata": {},
   "source": [
    "V5 Model"
   ]
  },
  {
   "cell_type": "code",
   "execution_count": 7,
   "metadata": {},
   "outputs": [],
   "source": [
    "model = nn.Sequential(nn.Linear(784,392), # input layer to hidden layer 1\n",
    "                     nn.ReLU(),\n",
    "                     nn.Linear(392,392), # hidden layer 1 to hidden layer 2\n",
    "                     nn.ReLU(),\n",
    "                     nn.Linear(392,392), # hidden layer 2 to hidden layer 3\n",
    "                     nn.ReLU(),\n",
    "                     nn.Linear(392,392), # hidden layer 3 to hidden layer 4\n",
    "                     nn.ReLU(),\n",
    "                     nn.Linear(392,392), # hidden layer 4 to hidden layer 5,\n",
    "                     nn.ReLU(),\n",
    "                     nn.Linear(392,10), # hidden layer 5 to output layer,\n",
    "                     nn.LogSoftmax(dim=1) # LogSoftmax used as probability output\n",
    "                     )"
   ]
  },
  {
   "cell_type": "markdown",
   "metadata": {},
   "source": [
    "# Training the network"
   ]
  },
  {
   "cell_type": "code",
   "execution_count": 13,
   "metadata": {},
   "outputs": [],
   "source": [
    "# Using Negative log likelihood loss as the loss function for the network\n",
    "criterion = nn.NLLLoss() \n",
    "optimizer = optim.SGD(model.parameters(),lr=.10,momentum=.10)"
   ]
  },
  {
   "cell_type": "code",
   "execution_count": 9,
   "metadata": {},
   "outputs": [
    {
     "name": "stdout",
     "output_type": "stream",
     "text": [
      "Epoch 1 Complete\n",
      "Total Average Loss: 0.8391014933586121\n",
      "Time to Train: 15.515322208404541\n",
      "\n",
      "Epoch 2 Complete\n",
      "Total Average Loss: 0.43742603063583374\n",
      "Time to Train: 15.528104066848755\n",
      "\n",
      "Epoch 3 Complete\n",
      "Total Average Loss: 0.37841010093688965\n",
      "Time to Train: 15.834158897399902\n",
      "\n",
      "Epoch 4 Complete\n",
      "Total Average Loss: 0.3453957736492157\n",
      "Time to Train: 15.405253887176514\n",
      "\n",
      "Epoch 5 Complete\n",
      "Total Average Loss: 0.31856799125671387\n",
      "Time to Train: 15.058037996292114\n",
      "\n",
      "Epoch 6 Complete\n",
      "Total Average Loss: 0.30012473464012146\n",
      "Time to Train: 14.81685996055603\n",
      "\n",
      "Epoch 7 Complete\n",
      "Total Average Loss: 0.2837115526199341\n",
      "Time to Train: 15.112167119979858\n",
      "\n",
      "Epoch 8 Complete\n",
      "Total Average Loss: 0.2701813578605652\n",
      "Time to Train: 14.279911994934082\n",
      "\n",
      "Epoch 9 Complete\n",
      "Total Average Loss: 0.2573709487915039\n",
      "Time to Train: 14.160156011581421\n",
      "\n",
      "Epoch 10 Complete\n",
      "Total Average Loss: 0.2460995316505432\n",
      "Time to Train: 14.510838985443115\n",
      "\n",
      "Epoch 11 Complete\n",
      "Total Average Loss: 0.2354026585817337\n",
      "Time to Train: 15.335566282272339\n",
      "\n",
      "Epoch 12 Complete\n",
      "Total Average Loss: 0.22264446318149567\n",
      "Time to Train: 14.61589002609253\n",
      "\n",
      "Epoch 13 Complete\n",
      "Total Average Loss: 0.21491281688213348\n",
      "Time to Train: 15.865020036697388\n",
      "\n",
      "Epoch 14 Complete\n",
      "Total Average Loss: 0.2054683268070221\n",
      "Time to Train: 15.80897307395935\n",
      "\n",
      "Epoch 15 Complete\n",
      "Total Average Loss: 0.1979464739561081\n",
      "Time to Train: 15.096714973449707\n",
      "\n"
     ]
    }
   ],
   "source": [
    "# TODO: Train the network here\n",
    "epochs = 15\n",
    "for e in range(epochs):\n",
    "    running_loss = 0\n",
    "    batch_count = 0\n",
    "    # Timing each epoch\n",
    "    start_epoch = time.time()\n",
    "    for images,labels in trainloader:\n",
    "        # Flattening images for input into the network\n",
    "        image_flat = images.view(images.shape[0],-1)\n",
    "        # Running the images through the network\n",
    "        output = model(image_flat)\n",
    "        # Calculating loss\n",
    "        loss = criterion(output,labels)\n",
    "        running_loss += loss\n",
    "        # Calculating gradients\n",
    "        loss.backward()\n",
    "        # Updating weights\n",
    "        optimizer.step()\n",
    "        # Clearing gradients for next loop\n",
    "        optimizer.zero_grad()\n",
    "        batch_count += 1\n",
    "    end_epoch = time.time()\n",
    "    print(f'Epoch {e + 1} Complete')\n",
    "    print(f'Total Average Loss: {running_loss/batch_count}')\n",
    "    print(f'Time to Train: {end_epoch-start_epoch}\\n')"
   ]
  },
  {
   "cell_type": "code",
   "execution_count": 45,
   "metadata": {
    "scrolled": true
   },
   "outputs": [
    {
     "data": {
      "image/png": "[encoded data removed]",
      "text/plain": [
       "<Figure size 432x648 with 2 Axes>"
      ]
     },
     "metadata": {
      "image/png": {
       "height": 206,
       "width": 423
      },
      "needs_background": "light"
     },
     "output_type": "display_data"
    }
   ],
   "source": [
    "%matplotlib inline\n",
    "%config InlineBackend.figure_format = 'retina'\n",
    "\n",
    "import helper\n",
    "\n",
    "# Test out your network!\n",
    "\n",
    "dataiter = iter(testloader)\n",
    "images, labels = dataiter.next()\n",
    "img = images[0]\n",
    "# Convert 2D image to 1D vector\n",
    "img = img.resize_(1, 784)\n",
    "\n",
    "# TODO: Calculate the class probabilities (softmax) for img\n",
    "ps = torch.exp(model(img))\n",
    "\n",
    "# Plot the image and probabilities\n",
    "helper.view_classify(img.resize_(1, 28, 28), ps, version='Fashion')"
   ]
  },
  {
   "cell_type": "code",
   "execution_count": 11,
   "metadata": {
    "scrolled": true
   },
   "outputs": [
    {
     "name": "stdout",
     "output_type": "stream",
     "text": [
      "Total Correct: 8805\n",
      "Total Guesses: 10000\n",
      "Accuracy Score: 0.8805\n"
     ]
    }
   ],
   "source": [
    "# Scoring the Neural Network by accuracy\n",
    "total_correct = 0\n",
    "total_guesses = 0\n",
    "for batch in testloader:\n",
    "    images,labels = batch\n",
    "    flattened_batch = images.view(images.shape[0],-1)\n",
    "    # Running batch through model, then, taking their exponentials for the probabilities\n",
    "    batch_probabilities = torch.exp(model(flattened_batch))\n",
    "    # Taking the highest probability argument (the prediction)\n",
    "    batch_predictions = batch_probabilities.argmax(dim=1)\n",
    "    # Tracking how many were correct (matched the labels)\n",
    "    batch_no_correct = sum(batch_predictions==labels).item()\n",
    "    total_correct += batch_no_correct\n",
    "    # Tracking total guesses\n",
    "    total_guesses += len(labels)\n",
    "print(f'Total Correct: {total_correct}')\n",
    "print(f'Total Guesses: {total_guesses}')\n",
    "print(f'Accuracy Score: {total_correct/total_guesses}')"
   ]
  },
  {
   "cell_type": "code",
   "execution_count": 49,
   "metadata": {},
   "outputs": [
    {
     "name": "stdout",
     "output_type": "stream",
     "text": [
      "Total Correct: 8805\n",
      "Total Guesses: 10000\n",
      "Accuracy Score: 0.8805\n"
     ]
    }
   ],
   "source": [
    "# Scoring the Neural Network by accuracy\n",
    "with torch.no_grad():\n",
    "    total_correct = 0\n",
    "    total_guesses = 0\n",
    "    for batch in testloader:\n",
    "        images,labels = batch\n",
    "        flattened_batch = images.view(images.shape[0],-1)\n",
    "        # Running batch through model, then, taking their exponentials for the probabilities\n",
    "        batch_probabilities = torch.exp(model(flattened_batch))\n",
    "        # Taking the highest probability argument (the prediction)\n",
    "        batch_predictions = batch_probabilities.argmax(dim=1)\n",
    "        # Tracking how many were correct (matched the labels)\n",
    "        batch_no_correct = sum(batch_predictions==labels).item()\n",
    "        total_correct += batch_no_correct\n",
    "        # Tracking total guesses\n",
    "        total_guesses += len(labels)\n",
    "    print(f'Total Correct: {total_correct}')\n",
    "    print(f'Total Guesses: {total_guesses}')\n",
    "    print(f'Accuracy Score: {total_correct/total_guesses}')"
   ]
  },
  {
   "cell_type": "code",
   "execution_count": 55,
   "metadata": {},
   "outputs": [
    {
     "data": {
      "text/plain": [
       "1.0"
      ]
     },
     "execution_count": 55,
     "metadata": {},
     "output_type": "execute_result"
    }
   ],
   "source": [
    "torch.mean((batch_predictions==labels).type(torch.FloatTensor)).item()"
   ]
  },
  {
   "cell_type": "markdown",
   "metadata": {},
   "source": [
    "**<center>Testing Results Table</center>**<br>\n",
    "*<center>Note the kernel was reset for each test run</center>*"
   ]
  },
  {
   "cell_type": "markdown",
   "metadata": {},
   "source": [
    "| Test Run | Accuracy | Epochs | Learning Rate | Momentum | Hidden Layer 1 | Hidden Layer 2 | Hidden Layer 3 | Hidden Layer 4 | Hidden Layer 5 |\n",
    "| --- | --- | --- | --- | --- | --- | --- | --- | --- | --- |\n",
    "| 1 | .8749 | 10 | .10 | .05 | 196 | 98 | 49 | - | - |\n",
    "| 2 | .8601 | 10 | .10 | .15 | 196 | 98 | 49 | - | - |\n",
    "| 3 | .8749 | 10 | .10 | .10 | 196 | 98 | 49 | - | - |\n",
    "| 4 | .8712 | 10 | .15 | .10 | 196 | 98 | 49 | - | - |\n",
    "| 5 | .8865 | 50 | .10 | .10 | 196 | 98 | 49 | - | - |\n",
    "| 6 | .8787 | 20 | .10 | .10 | 196 | 98 | 49 | - | - |\n",
    "| 7 | .8893 | 15 | .10 | .10 | 392 | 196 | 98 | 49 | - |\n",
    "| 8 | .8849 | 15 | .10 | .10 | 392 | 392 | 196 | 98 | - |\n",
    "| 9 | .8888 | 15 | .10 | .10 | 392 | 196 | 98 | 49 | 25 |\n",
    "| 10 | .8805 | 15 | .10 | .10 | 392 | 392 | 392 | 392 | 392 |"
   ]
  },
  {
   "cell_type": "markdown",
   "metadata": {},
   "source": [
    "# Conclusion\n",
    "The network performed the best when on test run 7 (88.93% accuracy), which was trained on the dataset for 15 epochs, and only included 3 hidden layers. I kept learning rate and momentum for the SGD optimizer on .10 and .10, respectively, for almost all test runs because those hyperparameters seemed to give me the best results after the first 4 test runs. After test run 7, I thought that performance would improve by adding additional nodes and layers, but it didn't improve the model's performance on the testing set per the results above. Surprisingly, the model performed slightly worse after I modified the existing hidden layers by adding more nodes (see test run 9 & 10). Finally, in test run 5, I was surpised to see that 50 epochs of training didn't affect performance as much as it did when comparing it to test runs 3 & 6. It appears that model performance tapers off after 10 or so epochs. Any more than 20 would just take an inordinate amount of time for minimal performance improvement."
   ]
  },
  {
   "cell_type": "markdown",
   "metadata": {},
   "source": [
    "If I continued experimenting, I would tweak the following hyperparameters:\n",
    "- Activation functions like sigmoid or hyperbolic tangent instead of ReLU\n",
    "- More Layers\n",
    "- Different node patterns (i.e. increasing in width rather than decreasing in width)\n",
    "- Different optimizers"
   ]
  }
 ],
 "metadata": {
  "kernelspec": {
   "display_name": "Python 3",
   "language": "python",
   "name": "python3"
  },
  "language_info": {
   "codemirror_mode": {
    "name": "ipython",
    "version": 3
   },
   "file_extension": ".py",
   "mimetype": "text/x-python",
   "name": "python",
   "nbconvert_exporter": "python",
   "pygments_lexer": "ipython3",
   "version": "3.7.3"
  },
  "toc": {
   "base_numbering": 1,
   "nav_menu": {},
   "number_sections": true,
   "sideBar": true,
   "skip_h1_title": false,
   "title_cell": "Table of Contents",
   "title_sidebar": "Contents",
   "toc_cell": false,
   "toc_position": {},
   "toc_section_display": true,
   "toc_window_display": false
  },
  "varInspector": {
   "cols": {
    "lenName": 16,
    "lenType": 16,
    "lenVar": 40
   },
   "kernels_config": {
    "python": {
     "delete_cmd_postfix": "",
     "delete_cmd_prefix": "del ",
     "library": "var_list.py",
     "varRefreshCmd": "print(var_dic_list())"
    },
    "r": {
     "delete_cmd_postfix": ") ",
     "delete_cmd_prefix": "rm(",
     "library": "var_list.r",
     "varRefreshCmd": "cat(var_dic_list()) "
    }
   },
   "types_to_exclude": [
    "module",
    "function",
    "builtin_function_or_method",
    "instance",
    "_Feature"
   ],
   "window_display": false
  }
 },
 "nbformat": 4,
 "nbformat_minor": 2
}
